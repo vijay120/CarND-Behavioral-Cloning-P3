{
 "cells": [
  {
   "cell_type": "code",
   "execution_count": 26,
   "metadata": {
    "collapsed": false
   },
   "outputs": [],
   "source": [
    "mainDir = '/Users/vijay/CarND-Behavioral-Cloning-P3/data/'\n",
    "\n",
    "import pandas as pd\n",
    "from sklearn.model_selection import train_test_split\n",
    "from sklearn.utils import shuffle\n",
    "import cv2\n",
    "import numpy as np\n",
    "\n",
    "df = pd.read_csv(mainDir + 'driving_log.csv', sep=',',header=0)\n",
    "#df = df[df['steering'] > 0.05 or df['steering'] < -0.05]\n",
    "\n",
    "X = df[\"center\"]\n",
    "X = X.map(lambda img : np.reshape(cv2.imread(mainDir + img, 0), (160, 320, 1)))\n",
    "Y = df[\"steering\"]\n",
    "\n",
    "X = np.asarray(X.tolist())\n",
    "Y = np.asarray(Y.tolist())\n",
    "\n",
    "## shuffle\n",
    "X, Y = shuffle(X, Y, random_state=0)\n",
    "X_train, X_test, y_train, y_test = train_test_split(X, Y, test_size=0.0, random_state=42)"
   ]
  },
  {
   "cell_type": "code",
   "execution_count": 19,
   "metadata": {
    "collapsed": false
   },
   "outputs": [
    {
     "name": "stdout",
     "output_type": "stream",
     "text": [
      "8036\n",
      "8036\n",
      "<class 'numpy.ndarray'>\n"
     ]
    }
   ],
   "source": [
    "x_new = [val > 0.05 for val in Y]\n",
    "print(len(Y))\n",
    "print(len(x_new))\n",
    "print(type(Y))"
   ]
  },
  {
   "cell_type": "code",
   "execution_count": null,
   "metadata": {
    "collapsed": true
   },
   "outputs": [],
   "source": []
  },
  {
   "cell_type": "code",
   "execution_count": 27,
   "metadata": {
    "collapsed": false
   },
   "outputs": [],
   "source": [
    "def normalize_grayscale(image_data):\n",
    "    a = -0.5\n",
    "    b = 0.5\n",
    "    grayscale_min = 0\n",
    "    grayscale_max = 255\n",
    "    return a + ( ( (image_data - grayscale_min)*(b - a) )/( grayscale_max - grayscale_min ) )\n",
    "\n",
    "## normalize the images\n",
    "X_train = normalize_grayscale(X_train)\n",
    "X_val = normalize_grayscale(X_train)"
   ]
  },
  {
   "cell_type": "code",
   "execution_count": 88,
   "metadata": {
    "collapsed": false
   },
   "outputs": [
    {
     "name": "stdout",
     "output_type": "stream",
     "text": [
      "<class 'pandas.core.series.Series'>\n",
      "(2,)\n",
      "(1558,)\n",
      "(160, 320)\n",
      "<class 'numpy.ndarray'>\n",
      "(1558, 160, 320)\n"
     ]
    }
   ],
   "source": [
    "print(type(X_train))\n",
    "print(X_train[0:2].shape)\n",
    "print(X_train.shape)\n",
    "print(X_train[0].shape)\n",
    "\n",
    "stuff = np.asarray(X_train.tolist())\n",
    "print(type(stuff))\n",
    "print(stuff.shape)\n",
    "\n",
    "#for elem in stuff:\n",
    "\n",
    "# X_train2 = np.ndarray(shape=(None, 160, 320, 1), dtype=int)\n",
    "# for img in X_train[0:10]:\n",
    "#     np.append(X_train2, [img], axis=0)\n",
    "\n",
    "# #X_train2 = X_train.as_matrix()\n",
    "# print(type(X_train2))\n",
    "# print(X_train2.shape)\n",
    "# print(X_train2)"
   ]
  },
  {
   "cell_type": "code",
   "execution_count": 100,
   "metadata": {
    "collapsed": false
   },
   "outputs": [
    {
     "ename": "TypeError",
     "evalue": "Cannot cast array data from dtype('float64') to dtype('int64') according to the rule 'safe'",
     "output_type": "error",
     "traceback": [
      "\u001b[0;31m---------------------------------------------------------------------------\u001b[0m",
      "\u001b[0;31mTypeError\u001b[0m                                 Traceback (most recent call last)",
      "\u001b[0;32m<ipython-input-100-ff340be035a7>\u001b[0m in \u001b[0;36m<module>\u001b[0;34m()\u001b[0m\n\u001b[1;32m      2\u001b[0m \u001b[0;32mimport\u001b[0m \u001b[0mpylab\u001b[0m \u001b[0;32mas\u001b[0m \u001b[0mpl\u001b[0m\u001b[0;34m\u001b[0m\u001b[0m\n\u001b[1;32m      3\u001b[0m \u001b[0;34m\u001b[0m\u001b[0m\n\u001b[0;32m----> 4\u001b[0;31m \u001b[0mnp\u001b[0m\u001b[0;34m.\u001b[0m\u001b[0mbincount\u001b[0m\u001b[0;34m(\u001b[0m\u001b[0my_train\u001b[0m\u001b[0;34m)\u001b[0m\u001b[0;34m\u001b[0m\u001b[0m\n\u001b[0m",
      "\u001b[0;31mTypeError\u001b[0m: Cannot cast array data from dtype('float64') to dtype('int64') according to the rule 'safe'"
     ]
    }
   ],
   "source": [
    "import scipy.stats as stats\n",
    "import pylab as pl\n",
    "\n",
    "np.bincount(y_train) "
   ]
  },
  {
   "cell_type": "code",
   "execution_count": 29,
   "metadata": {
    "collapsed": false
   },
   "outputs": [
    {
     "name": "stdout",
     "output_type": "stream",
     "text": [
      "Train on 6428 samples, validate on 1608 samples\n",
      "Epoch 1/5\n",
      "6428/6428 [==============================] - 437s - loss: 0.0158 - acc: 0.5409 - val_loss: 0.0134 - val_acc: 0.5498\n",
      "Epoch 2/5\n",
      "6428/6428 [==============================] - 390s - loss: 0.0125 - acc: 0.5409 - val_loss: 0.0118 - val_acc: 0.5498\n",
      "Epoch 3/5\n",
      "6428/6428 [==============================] - 379s - loss: 0.0109 - acc: 0.5409 - val_loss: 0.0092 - val_acc: 0.5498\n",
      "Epoch 4/5\n",
      "6428/6428 [==============================] - 391s - loss: 0.0092 - acc: 0.5409 - val_loss: 0.0090 - val_acc: 0.5498\n",
      "Epoch 5/5\n",
      "6428/6428 [==============================] - 317s - loss: 0.0087 - acc: 0.5409 - val_loss: 0.0084 - val_acc: 0.5498\n"
     ]
    }
   ],
   "source": [
    "from keras.models import Sequential\n",
    "from keras.models import Sequential\n",
    "from keras.layers.core import Dense, Activation, Flatten, Dropout\n",
    "from keras.layers.convolutional import Convolution2D\n",
    "from keras.layers.pooling import MaxPooling2D\n",
    "\n",
    "model = Sequential()\n",
    "model.add(Convolution2D(24, 5, 5, input_shape=(160, 320, 1), subsample=(2, 2), activation='relu'))\n",
    "model.add(Convolution2D(36, 5, 5, subsample=(2, 2), activation='relu'))\n",
    "model.add(Convolution2D(48, 5, 5, subsample=(2, 2), activation='relu'))\n",
    "model.add(Convolution2D(64, 3, 3, subsample=(1, 1), activation='relu'))\n",
    "model.add(Convolution2D(64, 3, 3, subsample=(1, 1), activation='relu'))\n",
    "model.add(Flatten())\n",
    "model.add(Dense(1164, activation='relu'))\n",
    "model.add(Dense(100, activation='relu'))\n",
    "model.add(Dense(50, activation='relu'))\n",
    "model.add(Dense(10, activation='relu'))\n",
    "model.add(Dense(1))\n",
    "\n",
    "model.compile('adam', 'mean_squared_error', ['accuracy'])\n",
    "history = model.fit(X_train, y_train, nb_epoch=5, batch_size=128, validation_split=0.2)"
   ]
  },
  {
   "cell_type": "code",
   "execution_count": 30,
   "metadata": {
    "collapsed": true
   },
   "outputs": [],
   "source": [
    "from keras.models import load_model\n",
    "model.save('model.h5')  # creates a HDF5 file 'my_model.h5'"
   ]
  },
  {
   "cell_type": "code",
   "execution_count": null,
   "metadata": {
    "collapsed": true
   },
   "outputs": [],
   "source": []
  }
 ],
 "metadata": {
  "anaconda-cloud": {},
  "kernelspec": {
   "display_name": "Python [conda env:carnd-term1]",
   "language": "python",
   "name": "conda-env-carnd-term1-py"
  },
  "language_info": {
   "codemirror_mode": {
    "name": "ipython",
    "version": 3
   },
   "file_extension": ".py",
   "mimetype": "text/x-python",
   "name": "python",
   "nbconvert_exporter": "python",
   "pygments_lexer": "ipython3",
   "version": "3.5.2"
  }
 },
 "nbformat": 4,
 "nbformat_minor": 1
}
